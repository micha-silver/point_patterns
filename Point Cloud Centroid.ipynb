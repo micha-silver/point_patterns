{
 "cells": [
  {
   "cell_type": "code",
   "execution_count": 6,
   "metadata": {
    "collapsed": false
   },
   "outputs": [],
   "source": [
    "import os, sys\n",
    "import numpy as np\n",
    "import math"
   ]
  },
  {
   "cell_type": "code",
   "execution_count": 7,
   "metadata": {
    "collapsed": true
   },
   "outputs": [],
   "source": [
    "def point_cloud_center(x_coords, y_coords, weights):\n",
    "    \"\"\"\n",
    "    Find weighted center of gravity of point cloud\n",
    "    Use the column \"weight_col\" values as weight factor (should be numeric)\n",
    "    Return (x,y)\n",
    "    \"\"\"\n",
    "    sum_weights = sum(weights)\n",
    "    # Catch cases where all weights are zero (or missing)\n",
    "    if (sum_weights==0):\n",
    "        # Just use regular centroid\n",
    "        n = len(x_coords)\n",
    "        x = sum(x_coords)/n\n",
    "        y = sum(y_coords)/n\n",
    "    else:\n",
    "        # Do the weighted center of gravity\n",
    "        # Since weights and coords are numpy arrays, '*' is array multiplication\n",
    "        x = sum(x_coords * weights) / sum_weights\n",
    "        y = sum(y_coords * weights) / sum_weights\n",
    "    \n",
    "    # Calculate Standard distance\n",
    "    sigma_x = np.sum(x_coords**2 * weights)/sum_weights - x**2\n",
    "    sigma_y = np.sum(y_coords**2 * weights)/sum_weights - y**2\n",
    "    d = np.sqrt(sigma_x + sigma_y)\n",
    "    \n",
    "    return x,y,d"
   ]
  },
  {
   "cell_type": "code",
   "execution_count": 8,
   "metadata": {
    "collapsed": true
   },
   "outputs": [],
   "source": [
    "# Initialize GRASS Session\n",
    "\n",
    "# --- Change variable below as required ---\n",
    "# -----------------------------------------\n",
    "gisdb = os.path.join(os.path.expanduser(\"~\"), \"GIS/grass\")\n",
    "gisbase = '/usr/lib/grass72'\n",
    "grass7bin = '/usr/bin/grass72'\n",
    "location=\"WGS84\"\n",
    "mapset=\"IMAP\"\n",
    "# -----------------------------------------\n",
    "\n",
    "gpydir = os.path.join(gisbase, \"etc\", \"python\")\n",
    "sys.path.append(gpydir)\n",
    "os.environ['GISBASE'] = gisbase\n",
    "os.environ['GISDBASE'] = gisdb\n",
    "\n",
    "import grass.script as gscript\n",
    "import grass.script.setup as gsetup\n",
    "tmprc = gsetup.init(gisbase, gisdb, location, mapset)\n",
    "# (Remove the tmprc file at the end)"
   ]
  },
  {
   "cell_type": "code",
   "execution_count": 9,
   "metadata": {
    "collapsed": true
   },
   "outputs": [],
   "source": [
    "def dispersion_cross(cog, x_coords, y_coords, x, y):\n",
    "    \"\"\"\n",
    "    Create line vector of dispersion cross\n",
    "    No weighting\n",
    "    \"\"\"\n",
    "    x_std = np.std(x_coords)\n",
    "    y_std = np.std(y_coords)\n",
    "    r = np.corrcoef(x_coords, y_coords)[0,1]\n",
    "    tan2alpha = 2*r*x_std*y_std/(x_std - y_std)\n",
    "    alpha = math.atan(tan2alpha)/2\n",
    "    alpha_deg = math.degrees(alpha)\n",
    "    \n",
    "    # Calculate new, transformed X,Y corrds\n",
    "    x_star = x_coords*math.cos(alpha) + y_coords*math.sin(alpha)\n",
    "    y_star = y_coords*math.cos(alpha) - x_coords*math.sin(alpha)\n",
    "    \n",
    "    # Now the lengths of dispersion cross segments = Standard deviation of each axis\n",
    "    x_len = np.std(x_star)\n",
    "    y_len = np.std(y_star)\n",
    "    disp_ellipse = cog.replace('cog','disp_ellipse')\n",
    "    gscript.run_command('v.buffer', \n",
    "        input=cog, output=disp_ellipse, type='point',\n",
    "        distance=x_len, minordistance=y_len, angle=alpha_deg, overwrite=True)\n",
    "    \n",
    "    return alpha_deg, x_len, y_len"
   ]
  }
 ],
 "metadata": {
  "kernelspec": {
   "display_name": "Python 2",
   "language": "python",
   "name": "python2"
  },
  "language_info": {
   "codemirror_mode": {
    "name": "ipython",
    "version": 2
   },
   "file_extension": ".py",
   "mimetype": "text/x-python",
   "name": "python",
   "nbconvert_exporter": "python",
   "pygments_lexer": "ipython2",
   "version": "2.7.12"
  }
 },
 "nbformat": 4,
 "nbformat_minor": 2
}
