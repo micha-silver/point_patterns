{
 "cells": [
  {
   "cell_type": "markdown",
   "metadata": {
    "slideshow": {
     "slide_type": "slide"
    }
   },
   "source": [
    "# Ordinary and Universal Kriging of CML rain rate data\n",
    "- Install hdf5 package for reading HDF5 formatted CML data:\n",
    "- Initial setup\n",
    "- Declare functions\n",
    "- Loop thru dates and call functions\n",
    "    "
   ]
  },
  {
   "cell_type": "markdown",
   "metadata": {
    "slideshow": {
     "slide_type": "slide"
    }
   },
   "source": [
    "### Install HDF5 package"
   ]
  },
  {
   "cell_type": "code",
   "execution_count": 1,
   "metadata": {
    "collapsed": false,
    "slideshow": {
     "slide_type": "fragment"
    }
   },
   "outputs": [
    {
     "name": "stderr",
     "output_type": "stream",
     "text": [
      "Bioconductor version 3.5 (BiocInstaller 1.26.0), ?biocLite for help\n",
      "BioC_mirror: https://bioconductor.org\n",
      "Using Bioconductor 3.5 (BiocInstaller 1.26.0), R 3.4.0 (2017-04-21).\n",
      "Installing package(s) ‘rhdf5’\n",
      "installation path not writeable, unable to update packages: BH, curl, dbscan,\n",
      "  devtools, fields, gdata, GEOmap, git2r, gstat, jsonlite, lctools, lubridate,\n",
      "  maps, MBA, memoise, mice, openssl, R6, reshape, rgdal, rgeos, rgrass7,\n",
      "  rNOMADS, selectr, sp, spacetime, spam, splancs, xml2, abind, acepack, car,\n",
      "  chron, colorspace, deldir, digest, e1071, effects, ggplot2, gridExtra,\n",
      "  gtable, Hmisc, lme4, lmtest, maptools, multcomp, munsell, mvtnorm, pbkrtest,\n",
      "  pkgKitten, plyr, polyclip, proto, quantreg, Rcmdr, RcmdrMisc, Rcpp,\n",
      "  RcppEigen, readxl, relimp, reshape2, rgl, RNetCDF, scales, SparseM, spatstat,\n",
      "  stringi, stringr, TH.data, XML, zoo, foreign\n",
      "Old packages: 'bindrcpp', 'DBI', 'glue'\n"
     ]
    }
   ],
   "source": [
    "source(\"https://bioconductor.org/biocLite.R\")\n",
    "biocLite(\"rhdf5\")"
   ]
  },
  {
   "cell_type": "markdown",
   "metadata": {
    "slideshow": {
     "slide_type": "skip"
    }
   },
   "source": [
    "### Initial setup"
   ]
  },
  {
   "cell_type": "code",
   "execution_count": 2,
   "metadata": {
    "collapsed": false,
    "slideshow": {
     "slide_type": "skip"
    }
   },
   "outputs": [
    {
     "name": "stderr",
     "output_type": "stream",
     "text": [
      "\n",
      "Attaching package: ‘dplyr’\n",
      "\n",
      "The following objects are masked from ‘package:stats’:\n",
      "\n",
      "    filter, lag\n",
      "\n",
      "The following objects are masked from ‘package:base’:\n",
      "\n",
      "    intersect, setdiff, setequal, union\n",
      "\n",
      "Loading required package: sp\n",
      "Loading required package: Matrix\n",
      "\n",
      "Attaching package: ‘raster’\n",
      "\n",
      "The following object is masked from ‘package:dplyr’:\n",
      "\n",
      "    select\n",
      "\n",
      "Checking rgeos availability: TRUE\n",
      "rgdal: version: 1.1-10, (SVN revision 622)\n",
      " Geospatial Data Abstraction Library extensions to R successfully loaded\n",
      " Loaded GDAL runtime: GDAL 2.1.3, released 2017/20/01\n",
      " Path to GDAL shared files: /usr/share/gdal/2.1\n",
      " Loaded PROJ.4 runtime: Rel. 4.9.2, 08 September 2015, [PJ_VERSION: 492]\n",
      " Path to PROJ.4 shared files: (autodetected)\n",
      " Linking to sp version: 1.2-3 \n"
     ]
    }
   ],
   "source": [
    "library(rhdf5)  # Library to read HDF5 formatted CML data\n",
    "library(dplyr)\n",
    "library(spdep)\n",
    "library(gstat)    # library with krige functions\n",
    "library(raster)\n",
    "library(RColorBrewer)\n",
    "library(maptools)\n",
    "library(automap)\n",
    "library(rgdal)\n",
    "\n",
    "setwd('/home/micha/Studies/Courses/Geostatistics-Tal/Project/')\n",
    "cml_file  <- \"CML/cml_bavaria_v1.h5\"\n",
    "gauge_file  <- 'gauge_data/gauge_data_daily.csv'\n",
    "gauge_meta_file <- 'gauge_data/gauge_metadata.csv'\n",
    "# Load administrative boundaries for plotting\n",
    "gadm_1 <- readRDS('GIS/DEU_adm1.rds')\n",
    "cities <- shapefile('GIS/cities_de.shp')\n",
    "# Filter out only Bavaria\n",
    "cities <- subset(cities, cities$adm1_code==2)\n",
    "# List of date strings\n",
    "\n",
    "radar_dir <- '/home/micha/Studies/Research/IMAP/Data/DE/RADOLAN/daily/'\n",
    "\n",
    "# Coordinate reference Systems\n",
    "# Original data are in Long/Lat\n",
    "# Transform to ETRS LAEA\n",
    "proj_wgs84 = CRS(\"+init=epsg:4326\")\n",
    "proj_laea <- CRS(\"+init=epsg:3035\")"
   ]
  },
  {
   "cell_type": "markdown",
   "metadata": {
    "slideshow": {
     "slide_type": "slide"
    }
   },
   "source": [
    "# Function Definitions\n",
    "- plot_map()\n",
    "- slice_data()\n",
    "- calculate_moran()\n",
    "- prepare_variogram()\n",
    "- prepare_krige_grid()\n",
    "- perform_ok()\n",
    "- OK_scatter()\n",
    "- load_radar()\n",
    "- perform_ked()\n",
    "- KED_scatter()"
   ]
  },
  {
   "cell_type": "code",
   "execution_count": 3,
   "metadata": {
    "collapsed": true,
    "slideshow": {
     "slide_type": "skip"
    }
   },
   "outputs": [],
   "source": [
    "# Plot initial map\n",
    "plot_map <- function(cities, gadm_1, gauge_data, link_data) {\n",
    "  # Clip gauges to region covered by links BBOX\n",
    "  # first create spatial points data frame of links\n",
    " \n",
    "  # Plot links and gauges\n",
    "  #outpng <- 'Output/gauges_links_map.png'\n",
    "  #png(outpng, width=800, height=600)\n",
    "  plot(link_data, col=\"red\", main=\"Bavaria - Links and Gauges\",\n",
    "       pch=18, cex=1.6)\n",
    "  plot(gadm_1, border='black', add=T)\n",
    "  points(gauge_data, col='blue', pch=7, cex=1.0)\n",
    "  points(cities, pch=16, col='grey30', cex=1.2)\n",
    "  pointLabel(coordinates(cities), cities$asciiname, cex=0.7)\n",
    "  lclrs <- c('red','blue','grey30')\n",
    "  lgnd <- c('CML Links','Gauges','Cities')\n",
    "  legend('bottomright', col=lclrs, legend=lgnd, \n",
    "         lwd=2, cex=0.7, pch=c(18, 7, 16), lty=NA)\n",
    "  scalebar(40000, type=\"bar\", xy=c(4450000,2700000),\n",
    "           divs=4, cex=0.7)\n",
    "  #dev.off()\n",
    "}"
   ]
  },
  {
   "cell_type": "code",
   "execution_count": 4,
   "metadata": {
    "collapsed": true,
    "slideshow": {
     "slide_type": "skip"
    }
   },
   "outputs": [],
   "source": [
    "# Subset one day of data\n",
    "# Function to slice out one day of data\n",
    "slice_data <- function(link_data, gauge_data, datestr) {\n",
    "  # Slice out link data for one day\n",
    "  links_1day <- link_data[link_data$date_time == datestr,]\n",
    "  # Remove all NaN values\n",
    "  links_1day <- na.omit(links_1day)\n",
    "\n",
    "  # Slice out gauge data for one day\n",
    "  datestr_clean <- gsub(\"-\",\"\",datestr)\n",
    "  gauges_1day <- gauge_data[gauge_data$date_time==datestr_clean,]\n",
    "  # Crop out only the gauges that are in the links region\n",
    "  gauges_1day <- crop(gauges_1day, extent(links_1day@bbox))\n",
    "  \n",
    "  retval <- list(\"gauges_1day\"=gauges_1day, \"links_1day\"=links_1day)\n",
    "  return(retval)\n",
    "}"
   ]
  },
  {
   "cell_type": "code",
   "execution_count": 5,
   "metadata": {
    "collapsed": false,
    "slideshow": {
     "slide_type": "skip"
    }
   },
   "outputs": [],
   "source": [
    "# ---------------------------------\n",
    "# Check Point Pattern Dispersion\n",
    "# Moran's I \n",
    "# ---------------------------------\n",
    "# Function to calculate Moran's I, do Monte Carlo simulations and plot\n",
    "calculate_moran <- function(links_1day, datestr) {\n",
    " \n",
    "  # Weights matrix as inverse distances between all link points\n",
    "  distances <- as.matrix(dist(as.data.frame(links_1day)))\n",
    "  inv_dist = 1/distances\n",
    "  diag(inv_dist) <- 0\n",
    "  #print(inv_dist[1:5,1:5])\n",
    "  wts <- mat2listw(inv_dist)\n",
    " \n",
    "  # Moran's I\n",
    "  Moran_I <- moran.test(links_1day$rain_rate, wts)\n",
    "  print(Moran_I)\n",
    "  I_stat <- Moran_I$estimate[1]\n",
    "  I_expect <- Moran_I$estimate[2]\n",
    "  \n",
    "  # Monte Carlo simulations\n",
    "  Moran_I_mc <- moran.mc(links_1day$rain_rate, wts, nsim=9999)\n",
    "  # Get value of 1.96 Stdev of the Monte Carlo distribution\n",
    "  sd2 <- 1.96 * sd(Moran_I_mc$res)\n",
    "  \n",
    "\n",
    "  # Create Histogram plot\n",
    "  #png('Output/Morans_histogram.png', width=800, height=800)\n",
    "  title <- paste(\"Moran's I - Dist. of Monte Carlo Simulations\", datestr)\n",
    "  hist(Moran_I_mc$res, xlab=\"Monte Carlo runs of Moran's I\", \n",
    "       breaks=50, col=\"lightgrey\", main=title)\n",
    "  #mtext(datestr)\n",
    "  abline(v=I_stat, col=\"red\", lwd=3)\n",
    "  abline(v=I_expect, col=\"orange\", lwd=3)\n",
    "  abline(v=sd2+I_expect, col=\"steelblue4\", lwd=2, lty=\"dashed\")\n",
    "  abline(v=-sd2+I_expect, col=\"steelblue4\", lwd=2, lty=\"dashed\")\n",
    "  lclrs <- c('red','orange','steelblue4')\n",
    "  lgnd <- c('I statistic','Expected Value','2 Std Dev')\n",
    "  legend('topright', col=lclrs, legend=lgnd, \n",
    "         lwd=2, cex=0.8)\n",
    "  #dev.off()\n",
    "  return(I_stat)\n",
    "}"
   ]
  },
  {
   "cell_type": "markdown",
   "metadata": {
    "slideshow": {
     "slide_type": "skip"
    }
   },
   "source": [
    "### Function to prepare and plot variogram"
   ]
  },
  {
   "cell_type": "code",
   "execution_count": 6,
   "metadata": {
    "collapsed": true,
    "slideshow": {
     "slide_type": "skip"
    }
   },
   "outputs": [],
   "source": [
    "prepare_variogram <- function(links_1day, datestr) {\n",
    "  vg <- variogram(rain_rate~1, data=links_1day)\n",
    "  plot(vg)\n",
    "  # Guess at range and sill\n",
    "  vg_fit_man <- fit.variogram(vg, \n",
    "                              vgm(psill=0.5,c('Exp','Sph','Gau'),range=20000))\n",
    "    \n",
    "  vg_fit_auto <- autofitVariogram(rain_rate~1, \n",
    "                             input_data=links_1day,\n",
    "                             model=c(\"Exp\",\"Sph\",\"Gau\"),\n",
    "                             verbose=TRUE)\n",
    "\n",
    "  #outpng <- paste0(\"Output/variogram_\", datestr, \".png\")\n",
    "  #png(outpng, width=600, height=400)\n",
    "  y_upper <- max(vg$gamma)*1.1\n",
    "  x_upper <- max(vg$dist)*1.1\n",
    "  title <- paste(\"Variogram_\",datestr)\n",
    "  plot(gamma~dist, vg, col=\"blue\", main=title,\n",
    "       xlab=\"Distance\", ylab=\"Semivariance\", \n",
    "       ylim=c(0, y_upper), xlim=c(0,x_upper))\n",
    "  lines(variogramLine(vg_fit_man, x_upper), col=\"red\")\n",
    "  lines(variogramLine(vg_fit_auto$var_model, x_upper), col=\"green\", lwd=2, lty=3)\n",
    "\n",
    "  lclrs <- c('red','green')\n",
    "  lgnd <- c('Manual fit','Auto')\n",
    "  legend('bottomright', col=lclrs, legend=lgnd, lwd=2, lty=c(1,4,1,2), cex=0.8)\n",
    "  #dev.off()\n",
    "  \n",
    "  # Return the fitted model \n",
    "  return(vg_fit_man)\n",
    "}"
   ]
  },
  {
   "cell_type": "markdown",
   "metadata": {
    "slideshow": {
     "slide_type": "slide"
    }
   },
   "source": [
    "### Prepare output grid"
   ]
  },
  {
   "cell_type": "code",
   "execution_count": 7,
   "metadata": {
    "collapsed": true,
    "slideshow": {
     "slide_type": "subslide"
    }
   },
   "outputs": [],
   "source": [
    "prepare_krige_grid <- function(link_data) {\n",
    "  # Setup grid for output raster, resolution 1000 m.\n",
    "  # links_1day is already tranformed to LAEA, \n",
    "  # be sure to use @coords (NOT lon, lat columns)\n",
    "  # Extend grid 6000 m. beyond the links region (6 pixels)\n",
    "  mnx <- min(link_data@coords[,1])-6000\n",
    "  mxx <- max(link_data@coords[,1])+6000\n",
    "  mny <- min(link_data@coords[,2])-6000\n",
    "  mxy <- max(link_data@coords[,2])+6000\n",
    "  grd <- expand.grid(lon=seq(mnx,mxx,1000), lat=seq(mny,mxy,1000))\n",
    "  xy_coords <- cbind(grd$lon, grd$lat)\n",
    "  coordinates(grd) <- xy_coords\n",
    "  proj4string(grd) <- proj_laea\n",
    "  gridded(grd) <- TRUE\n",
    "  return(grd)\n",
    "}"
   ]
  },
  {
   "cell_type": "markdown",
   "metadata": {
    "slideshow": {
     "slide_type": "skip"
    }
   },
   "source": [
    "### Function to perform Ordinary Kriging"
   ]
  },
  {
   "cell_type": "code",
   "execution_count": 8,
   "metadata": {
    "collapsed": true,
    "slideshow": {
     "slide_type": "skip"
    }
   },
   "outputs": [],
   "source": [
    "perform_ok <- function(links_1day, vg_fit, gauges_1day, grd, datestr) {\n",
    " \n",
    "  # First: Remove duplicated locations!\n",
    "    zdist <- zerodist(links_1day)[,1]\n",
    "    if (length(zdist)>0) {\n",
    "        # Remove rows identified by zerodist\n",
    "    links_1day <- links_1day[-zdist,]\n",
    "      }\n",
    "  \n",
    "  # === Kriging on grid ===\n",
    "    OK_grid <- krige(rain_rate~1, \n",
    "                    locations=links_1day, newdata=grd, model=vg_fit)\n",
    "  \n",
    "  # Plot krige raster\n",
    "    clrs <- brewer.pal(8,'BuPu')\n",
    "    title <- paste(\"Ordinary Kriging Interpolation \", datestr)\n",
    "    #outpng <- paste0(\"Output/OK_interp_\", links_1day$date_time[1], \".png\")\n",
    "    #png(outpng, width=800, height=600)\n",
    "    plot(OK_grid, col=clrs, main=title)\n",
    "    plot(links_1day, col=\"red\", pch=18, cex=1.2, add=T)\n",
    "    plot(gadm_1, border='black', lwd=1, add=T)\n",
    "    #dev.off()\n",
    "  \n",
    "  # === Kriging at gauge locations ===\n",
    "    OK_gauges <- krige(rain_rate~1, \n",
    "                           locations=links_1day, newdata=gauges_1day, model=vg_fit)\n",
    "  \n",
    "  # Join results with gauges to get the station_id, and observed precip \n",
    "    gauges_obs <- data.frame(\"station_id\"=gauges_1day$station_id, \n",
    "                           \"obs_precip\"=gauges_1day$obs_precip,\n",
    "                          \"x_coord\"=gauges_1day@coords[,1], \n",
    "                          \"y_coord\"=gauges_1day@coords[,2])\n",
    "    links_pred <- data.frame(\"pred\"=OK_gauges$var1.pred,\n",
    "                           \"x_coord\"=OK_gauges@coords[,1], \n",
    "                           \"y_coord\"=OK_gauges@coords[,2])\n",
    "    OK_results <- merge(gauges_obs, links_pred, by=c('x_coord', 'y_coord'))\n",
    "\n",
    "  return(OK_results)\n",
    "}"
   ]
  },
  {
   "cell_type": "code",
   "execution_count": 9,
   "metadata": {
    "collapsed": true,
    "slideshow": {
     "slide_type": "skip"
    }
   },
   "outputs": [],
   "source": [
    "OK_scatter <- function(OK_results) {\n",
    "    corrcoef <- cor(OK_results$pred, OK_results$obs_precip)\n",
    "    print(paste(\"Correlation Coefficient Gauge Observations vs OK: \", corrcoef))\n",
    "\n",
    "    #outpng <- paste0(\"Output/OK_Scatter_\", links_1day$date_time[1], \".png\")\n",
    "    title <- paste(\"OK vs Observed Precipitation \", datestr)\n",
    "    #png(outpng, width=800, height=600)\n",
    "    plot(OK_results$pred~OK_results$obs_precip, main=title, \n",
    "       xlab=\"Observed\", ylab=\"OK prediction\", pch=16, col=\"blue\")\n",
    "    abline(lm(OK_results$pred~OK_results$obs_precip), col=\"red\")\n",
    "    legend(\"topleft\", paste(\"Correlation: \", round(corrcoef,3)),\n",
    "          cex=0.9, bty=\"n\")\n",
    "    #dev.off()\n",
    "}"
   ]
  },
  {
   "cell_type": "markdown",
   "metadata": {
    "slideshow": {
     "slide_type": "slide"
    }
   },
   "source": [
    " ## Kriging with External Drift\n",
    "\n",
    "1. use radar raster as external independant variable\n",
    "2. First: Remove duplicated locations!\n",
    "3. Prepare new variogram and model with independant variables\n",
    "4. Add to the grd object an attibute column \n",
    "    for the independant variable \"radar_precip\"\n",
    "5. KED on grid\n",
    "6. KED at gauge locations"
   ]
  },
  {
   "cell_type": "code",
   "execution_count": 10,
   "metadata": {
    "collapsed": true,
    "slideshow": {
     "slide_type": "skip"
    }
   },
   "outputs": [],
   "source": [
    "load_radar <- function(datestr,grd) {\n",
    "    # Get the radar raster (AAI grid), reproject and clip to links region\n",
    "    radar_file <- paste0(radar_dir,'rw_',gsub('-','',datestr), '.asc')\n",
    "    print(paste(\"Loading RADOLAN file:\", radar_file))\n",
    "    radar <- raster(radar_file)\n",
    "    radar <- projectRaster(radar, res=1000, crs=proj_laea)\n",
    "    radar <- crop(radar, grd@bbox)\n",
    "  \n",
    "    # Plot radar\n",
    "    #outpng <- paste0(\"Output/Radar_\", links_1day$date_time[1], \".png\")\n",
    "    title <- paste(\"Radar rain rate \", datestr)\n",
    "    #png(outpng, width=800, height=600)\n",
    "    clrs <- brewer.pal(8,'YlGnBu')\n",
    "    plot(radar, col=clrs, main=title)\n",
    "    plot(links_1day, col=\"red\", pch=18, cex=0.8, add=T)\n",
    "    plot(gadm_1, border='black', lwd=1, add=T)\n",
    "    #dev.off()\n",
    "\n",
    "    return(radar)   \n",
    "}"
   ]
  },
  {
   "cell_type": "markdown",
   "metadata": {
    "slideshow": {
     "slide_type": "slide"
    }
   },
   "source": [
    "### Functions to perform Universal Kriging"
   ]
  },
  {
   "cell_type": "code",
   "execution_count": 11,
   "metadata": {
    "collapsed": true,
    "slideshow": {
     "slide_type": "subslide"
    }
   },
   "outputs": [],
   "source": [
    "perform_ked <- function(links_1day, gauges_1day, radar, grd, datestr) {\n",
    "    # Make sure no duplicates\n",
    "  zdist <- zerodist(links_1day)[,1]\n",
    "  if (length(zdist)>0) {\n",
    "    # Remove rows identified by zerodist\n",
    "    links_1day <- links_1day[-zdist,]\n",
    "  }\n",
    "    # New variogram, using the independant variable\n",
    "  links_1day$radar_precip <- extract(radar, links_1day)\n",
    "  vg2 <- variogram(rain_rate~radar_precip, data=links_1day)\n",
    "  vg2_fit <- fit.variogram(vg2, \n",
    "                          vgm(psill=0.5,c('Exp','Sph','Gau'),range=20000))\n",
    "    \n",
    "    # === Kriging on grid ===\n",
    "  grd$radar_precip <- 0.0\n",
    "  KED_grid <- krige(rain_rate ~ radar_precip, \n",
    "                    links_1day, grd, model=vg2_fit)\n",
    "    # Plot KED \n",
    "  clrs <- brewer.pal(8,'BuPu')\n",
    "  #outpng <- paste0(\"Output/KED_interp_\", links_1day$date_time[1], \".png\")\n",
    "  title <- paste(\"Kriging with External Drift Interpolation \", datestr)\n",
    "  #png(outpng, width=800, height=600)\n",
    "  plot(KED_grid, col=clrs, main=title)\n",
    "  plot(links_1day, col=\"red\", pch=18, cex=1.2, add=T)\n",
    "  plot(gadm_1, border='black', lwd=1, add=T)\n",
    "  #dev.off()\n",
    "\n",
    "  # ===  Kriging at gauge locations ===\n",
    "  # Add attribute column \"radar_precip\"  to the gauges SPDF\n",
    "  gauges_1day$radar_precip <- 0.0\n",
    "  KED_gauges <- krige(rain_rate ~ radar_precip, \n",
    "                      links_1day, gauges_1day, model=vg_fit)\n",
    "  \n",
    "  # Join results with gauges to get the station_id, and observed precip \n",
    "  gauges_obs <- data.frame(\"station_id\"=gauges_1day$station_id, \n",
    "                           \"obs_precip\"=gauges_1day$obs_precip,\n",
    "                          \"x_coord\"=gauges_1day@coords[,1], \n",
    "                          \"y_coord\"=gauges_1day@coords[,2])\n",
    "  links_pred <- data.frame(\"pred\"=KED_gauges$var1.pred,\n",
    "                           \"x_coord\"=KED_gauges@coords[,1], \n",
    "                           \"y_coord\"=KED_gauges@coords[,2])\n",
    "  KED_results <- merge(gauges_obs, links_pred, by=c('x_coord', 'y_coord'))\n",
    "\n",
    "  return(KED_results)\n",
    "}"
   ]
  },
  {
   "cell_type": "code",
   "execution_count": 12,
   "metadata": {
    "collapsed": true,
    "slideshow": {
     "slide_type": "subslide"
    }
   },
   "outputs": [],
   "source": [
    "KED_scatter <- function(KED_results, datestr) {\n",
    "    \n",
    "    # Plot KED versus gauges\n",
    "    corrcoef <- cor(KED_results$pred, KED_results$obs_precip)\n",
    "    print(paste(\"Correlation Coefficient Gauge Observations vs KED: \", corrcoef))\n",
    "    title <- paste(\"KED vs Observed Precipitation\", datestr)\n",
    "\n",
    "    outpng <- paste0(\"Output/KED_Scatter_\", datestr, \".png\")\n",
    "    #png(outpng, width=800, height=600)\n",
    "    plot(KED_results$pred ~ KED_results$obs_precip, \n",
    "            main=title, \n",
    "            xlab=\"Observed\", ylab=\"KED prediction\", pch=16, col=\"blue\")\n",
    "    abline(lm(KED_results$pred ~ KED_results$obs_precip), col=\"red\")\n",
    "    legend(\"topleft\", paste(\"Correlation: \", round(corrcoef,3)),\n",
    "          cex=0.9, bty=\"n\")\n",
    "    #dev.off()\n",
    "}"
   ]
  },
  {
   "cell_type": "code",
   "execution_count": 13,
   "metadata": {
    "collapsed": true,
    "slideshow": {
     "slide_type": "skip"
    }
   },
   "outputs": [],
   "source": [
    "gauge_radar_scatter <- function(gauges_1day, radar, datestr) {\n",
    "    # Second scatterplot comparing gauge observations with radar values\n",
    "    gauges_1day$radar_precip <- extract(radar, gauges_1day)\n",
    "    corrcoef <- cor(gauges_1day$obs_precip, gauges_1day$radar_precip)\n",
    "    print(paste(\"Correlation Coefficient Gauge Observations vs Radar: \", corrcoef))\n",
    "    \n",
    "    outpng <- paste0(\"Output/Gauge_Radar_Scatter_\", datestr, \".png\")\n",
    "    #png(outpng, width=800, height=600)\n",
    "    title <- paste(\"Radar vs Observed Precipitation\", datestr)\n",
    "    plot(gauges_1day$obs_precip, gauges_1day$radar_precip, \n",
    "            main=title, \n",
    "            xlab=\"Observed\", ylab=\"Radar precip\", pch=16, col=\"blue\")\n",
    "    abline(lm(gauges_1day$obs_precip ~ gauges_1day$radar_precip), col=\"red\")\n",
    "    legend(\"topleft\", paste(\"Correlation: \", round(corrcoef,3)), \n",
    "           cex=0.9, bty=\"n\")\n",
    "    #dev.off() \n",
    "    \n",
    "}"
   ]
  },
  {
   "cell_type": "markdown",
   "metadata": {
    "slideshow": {
     "slide_type": "skip"
    }
   },
   "source": [
    "### end of function definitions"
   ]
  },
  {
   "cell_type": "markdown",
   "metadata": {
    "slideshow": {
     "slide_type": "slide"
    }
   },
   "source": [
    "# Begin Process\n",
    "### Load CML data"
   ]
  },
  {
   "cell_type": "code",
   "execution_count": 14,
   "metadata": {
    "collapsed": true,
    "slideshow": {
     "slide_type": "subslide"
    }
   },
   "outputs": [],
   "source": [
    "# Open HDF5 file of CML data, and get list of links (groups in HDF5)\n",
    "grp_list <- filter(h5ls(cml_file), grepl(\"product_0\", name))\n",
    "dt_col <- rep('time', length(grp_list$group))\n",
    "rr_col <- rep('rain rate', length(grp_list$group))\n",
    "dt_list <- paste(grp_list$group, grp_list$name, dt_col, sep=\"/\")\n",
    "rr_list <- paste(grp_list$group, grp_list$name, rr_col, sep=\"/\")\n",
    "\n",
    "num_links <- length(rr_list)\n",
    "link_data <- list()\n",
    "link_meta <- list()"
   ]
  },
  {
   "cell_type": "markdown",
   "metadata": {
    "slideshow": {
     "slide_type": "slide"
    }
   },
   "source": [
    "### Loop thru all CML links, \n",
    "### get meta_data and rain rate data for each "
   ]
  },
  {
   "cell_type": "code",
   "execution_count": null,
   "metadata": {
    "collapsed": true,
    "slideshow": {
     "slide_type": "fragment"
    }
   },
   "outputs": [],
   "source": [
    "for (i in 1:num_links) {\n",
    "  rr_dset <- h5read(cml_file, rr_list[i])\n",
    "  dt_dset <- h5read(cml_file, dt_list[i])\n",
    "  attrs <- h5readAttributes(cml_file, grp_list[i,]$group)\n",
    "  # Create list of metadata for all cmls\n",
    "  link_id <- attrs$cml_id\n",
    "  # Set link point at *middle* between antennas\n",
    "  lat <- (attrs$site_a_latitude + attrs$site_b_latitude)/2\n",
    "  lon <- (attrs$site_a_longitude + attrs$site_b_longitude)/2\n",
    "  meta <- data.frame(link_id, lon, lat)\n",
    "  colnames(meta) <- c('link_id','lon','lat')\n",
    "  link_meta[[i]] <- meta \n",
    "  \n",
    "  # Make a list of all daily data for this cml\n",
    "  dset <- as.data.frame(cbind(rr_dset, dt_dset))\n",
    "  colnames(dset) <- c('rain_rate', 'date_time')\n",
    "  dset$date_time <- as.POSIXct(dset$date_time, \n",
    "                               origin=\"1970-01-01\", tz='GMT')\n",
    "  cml_daily <- dset %>% \n",
    "    group_by(date_time = cut(date_time, breaks=\"1 day\")) %>%\n",
    "    summarize(rain_rate = mean(rain_rate)*24)\n",
    "  \n",
    "  link_id_list <- rep(link_id, length(cml_daily$date_time))\n",
    "  cml_daily['link_id'] <- link_id_list\n",
    "  link_data[[i]] <-  cml_daily\n",
    "} "
   ]
  },
  {
   "cell_type": "code",
   "execution_count": null,
   "metadata": {
    "collapsed": false,
    "slideshow": {
     "slide_type": "slide"
    }
   },
   "outputs": [],
   "source": [
    "# Convert lists to DF\n",
    "link_meta <- do.call(rbind, link_meta)\n",
    "link_data <- do.call(rbind, link_data)\n",
    "link_data <- as.data.frame(link_data)\n",
    "link_data <- merge(link_data, link_meta, all.x=FALSE)\n",
    "link_data <- na.omit(link_data)\n",
    "\n",
    "H5close()\n",
    "print(paste(\"Found: \",length(link_meta$link_id), \"links\"))\n",
    "print(paste(\"Aggregated: \", length(link_data$link_id),\n",
    "            \"rows of daily CML data\"))"
   ]
  },
  {
   "cell_type": "markdown",
   "metadata": {
    "slideshow": {
     "slide_type": "skip"
    }
   },
   "source": [
    "### Load gauge data"
   ]
  },
  {
   "cell_type": "code",
   "execution_count": null,
   "metadata": {
    "collapsed": false,
    "slideshow": {
     "slide_type": "skip"
    }
   },
   "outputs": [],
   "source": [
    "# Read CSV files of gauge data and metadata \n",
    "data_cols <- c('station_id','date_time','quality',\n",
    "               'obs_precip', 'precip_ind','snow','eor')\n",
    "gauge_data <- read.csv(gauge_file, col.names=data_cols)\n",
    "meta_cols <- c('station_id','from_date','to_date','elevation',\n",
    "               'latitude','longitude',\n",
    "               'stn_name','province')\n",
    "gauge_meta <- read.csv(gauge_meta_file, col.names=meta_cols)\n",
    "\n",
    "# Join spatial data with gauge data\n",
    "gauge_data <- merge(gauge_data, gauge_meta, \n",
    "                    by='station_id', all.x=FALSE)\n",
    "# Make sure to clean out NA or < 0 (unknown values)\n",
    "gauge_data <- na.omit(gauge_data)\n",
    "gauge_data <- filter(gauge_data, obs_precip>=0)\n",
    "print(paste(\"Found: \",length(gauge_meta$station_id), \"gauges\"))\n",
    "print(paste(\"Found: \", length(gauge_data$station_id),\n",
    "            \"rows of daily gauge data\"))"
   ]
  },
  {
   "cell_type": "markdown",
   "metadata": {
    "slideshow": {
     "slide_type": "slide"
    }
   },
   "source": [
    "### Make SPDF from data frames"
   ]
  },
  {
   "cell_type": "code",
   "execution_count": null,
   "metadata": {
    "collapsed": true,
    "slideshow": {
     "slide_type": "fragment"
    }
   },
   "outputs": [],
   "source": [
    "# First SpatialPointsDataFrame from the Link data\n",
    "link_coords <- cbind(link_data$lon, link_data$lat)\n",
    "coordinates(link_data) <- link_coords\n",
    "proj4string(link_data) <- proj_wgs84\n",
    "links_bbox <- link_data@bbox\n",
    "\n",
    "# also spatial points data frame of gauges\n",
    "gauge_coords <- cbind(gauge_data$longitude, gauge_data$latitude)\n",
    "coordinates(gauge_data) <- gauge_coords\n",
    "proj4string(gauge_data) <- proj_wgs84\n",
    "# and crop to links BBOX\n",
    "gauge_data <- crop(gauge_data, extent(links_bbox))\n",
    "\n",
    "# Transform all spatial data to European LAEA projection, EPSG:3035\n",
    "cities <- spTransform(cities, proj_laea)\n",
    "gadm_1 <- spTransform(gadm_1, proj_laea)\n",
    "gauge_data <- spTransform(gauge_data, proj_laea)\n",
    "link_data <- spTransform(link_data, proj_laea)"
   ]
  },
  {
   "cell_type": "markdown",
   "metadata": {
    "slideshow": {
     "slide_type": "slide"
    }
   },
   "source": [
    "### Plot initial map"
   ]
  },
  {
   "cell_type": "code",
   "execution_count": null,
   "metadata": {
    "collapsed": false,
    "slideshow": {
     "slide_type": "fragment"
    }
   },
   "outputs": [],
   "source": [
    "options(repr.plot.width=6, repr.plot.height=5)\n",
    "plot_map(cities, gadm_1, gauge_data, link_data)"
   ]
  },
  {
   "cell_type": "markdown",
   "metadata": {
    "slideshow": {
     "slide_type": "skip"
    }
   },
   "source": [
    "### Setup grid for kriging results"
   ]
  },
  {
   "cell_type": "code",
   "execution_count": null,
   "metadata": {
    "collapsed": true,
    "slideshow": {
     "slide_type": "skip"
    }
   },
   "outputs": [],
   "source": [
    "grd <- prepare_krige_grid(link_data)"
   ]
  },
  {
   "cell_type": "markdown",
   "metadata": {
    "slideshow": {
     "slide_type": "slide"
    }
   },
   "source": [
    "### Begin process - one day"
   ]
  },
  {
   "cell_type": "code",
   "execution_count": null,
   "metadata": {
    "collapsed": true,
    "slideshow": {
     "slide_type": "fragment"
    }
   },
   "outputs": [],
   "source": [
    "datestrs = c('2016-07-01', '2016-07-02',\n",
    "             '2016-07-03', '2016-07-04',\n",
    "             '2016-07-05', '2016-07-06',\n",
    "             '2016-07-07', '2016-07-08',\n",
    "             '2016-07-09', '2016-07-10',\n",
    "             '2016-07-11', '2016-07-12',\n",
    "             '2016-07-13', '2016-07-14',\n",
    "             '2016-07-15', '2016-07-16',\n",
    "             '2016-07-17', '2016-07-18',\n",
    "             '2016-07-19', '2016-07-20')\n",
    "\n",
    "datestr = datestrs[12]\n",
    "  # Extract data for one day\n",
    "data_1day <- slice_data(link_data, gauge_data, datestr)\n",
    "links_1day <- data_1day$links_1day\n",
    "gauges_1day <- data_1day$gauges_1day"
   ]
  },
  {
   "cell_type": "code",
   "execution_count": null,
   "metadata": {
    "collapsed": false,
    "slideshow": {
     "slide_type": "slide"
    }
   },
   "outputs": [],
   "source": [
    "# Moran's I for autocorrelation\n",
    "Moran_I <- calculate_moran(links_1day, datestr)"
   ]
  },
  {
   "cell_type": "markdown",
   "metadata": {
    "slideshow": {
     "slide_type": "slide"
    }
   },
   "source": [
    "### Create a variogram and fitted model"
   ]
  },
  {
   "cell_type": "code",
   "execution_count": null,
   "metadata": {
    "collapsed": false,
    "slideshow": {
     "slide_type": "subslide"
    }
   },
   "outputs": [],
   "source": [
    "vg_fit <- prepare_variogram(links_1day, datestr)  "
   ]
  },
  {
   "cell_type": "markdown",
   "metadata": {
    "slideshow": {
     "slide_type": "slide"
    }
   },
   "source": [
    "### Do Ordinary Kriging"
   ]
  },
  {
   "cell_type": "code",
   "execution_count": null,
   "metadata": {
    "collapsed": false,
    "slideshow": {
     "slide_type": "subslide"
    }
   },
   "outputs": [],
   "source": [
    "OK_results <- perform_ok(links_1day, vg_fit, gauges_1day, grd, datestr)"
   ]
  },
  {
   "cell_type": "markdown",
   "metadata": {
    "slideshow": {
     "slide_type": "slide"
    }
   },
   "source": [
    "### Scatterplot of gauge data vs. krige predictions"
   ]
  },
  {
   "cell_type": "code",
   "execution_count": null,
   "metadata": {
    "collapsed": false,
    "slideshow": {
     "slide_type": "subslide"
    }
   },
   "outputs": [],
   "source": [
    "OK_scatter(OK_results)"
   ]
  },
  {
   "cell_type": "markdown",
   "metadata": {
    "slideshow": {
     "slide_type": "slide"
    }
   },
   "source": [
    "### Load and plot radar data"
   ]
  },
  {
   "cell_type": "code",
   "execution_count": null,
   "metadata": {
    "collapsed": false,
    "slideshow": {
     "slide_type": "subslide"
    }
   },
   "outputs": [],
   "source": [
    "# Plot radar\n",
    "radar <- load_radar(datestr, grd)"
   ]
  },
  {
   "cell_type": "markdown",
   "metadata": {
    "slideshow": {
     "slide_type": "slide"
    }
   },
   "source": [
    "### Do Kriging with External Drift"
   ]
  },
  {
   "cell_type": "code",
   "execution_count": null,
   "metadata": {
    "collapsed": false,
    "slideshow": {
     "slide_type": "subslide"
    }
   },
   "outputs": [],
   "source": [
    "KED_results <- perform_ked(links_1day, gauges_1day, radar, grd, datestr)"
   ]
  },
  {
   "cell_type": "markdown",
   "metadata": {
    "slideshow": {
     "slide_type": "slide"
    }
   },
   "source": [
    "### Scatterplot of gauge data vs. krige predictions"
   ]
  },
  {
   "cell_type": "code",
   "execution_count": null,
   "metadata": {
    "collapsed": false,
    "slideshow": {
     "slide_type": "subslide"
    }
   },
   "outputs": [],
   "source": [
    "KED_scatter(KED_results, datestr)"
   ]
  },
  {
   "cell_type": "markdown",
   "metadata": {
    "slideshow": {
     "slide_type": "slide"
    }
   },
   "source": [
    "### Scatterplot of gauge data vs. radar"
   ]
  },
  {
   "cell_type": "code",
   "execution_count": null,
   "metadata": {
    "collapsed": false,
    "slideshow": {
     "slide_type": "subslide"
    }
   },
   "outputs": [],
   "source": [
    "gauge_radar_scatter(gauges_1day, radar, datestr)"
   ]
  },
  {
   "cell_type": "markdown",
   "metadata": {
    "slideshow": {
     "slide_type": "slide"
    }
   },
   "source": [
    "### Radar and Interpolations, 2016-06-25"
   ]
  },
  {
   "cell_type": "markdown",
   "metadata": {
    "slideshow": {
     "slide_type": "fragment"
    }
   },
   "source": [
    "<img src=\"Output/Radar_2016-06-25.png\" style=\"float:left; width:300px;\" />\n",
    "<img src=\"Output/OK_interp_2016-06-25.png\" style=\"float:left; width:300px;\" />\n",
    "<img src=\"Output/KED_interp_2016-06-25.png\" style=\"float:left; width:300px\" />"
   ]
  },
  {
   "cell_type": "markdown",
   "metadata": {
    "slideshow": {
     "slide_type": "slide"
    }
   },
   "source": [
    "### Scatterplots, 2016-06-25"
   ]
  },
  {
   "cell_type": "markdown",
   "metadata": {
    "slideshow": {
     "slide_type": "fragment"
    }
   },
   "source": [
    "<img src=\"Output/Gauge_Radar_Scatter_2016-06-25.png\" style=\"float:left; width:300px;\" />\n",
    "<img src=\"Output/OK_Scatter_2016-06-25.png\" style=\"float:left; width:300px;\" />\n",
    "<img src=\"Output/KED_Scatter_2016-06-25.png\" style=\"float:left; width:300px;\" />"
   ]
  },
  {
   "cell_type": "code",
   "execution_count": null,
   "metadata": {
    "collapsed": true,
    "slideshow": {
     "slide_type": "skip"
    }
   },
   "outputs": [],
   "source": []
  }
 ],
 "metadata": {
  "celltoolbar": "Slideshow",
  "kernelspec": {
   "display_name": "R",
   "language": "R",
   "name": "ir"
  },
  "language_info": {
   "codemirror_mode": "r",
   "file_extension": ".r",
   "mimetype": "text/x-r-source",
   "name": "R",
   "pygments_lexer": "r",
   "version": "3.4.0"
  }
 },
 "nbformat": 4,
 "nbformat_minor": 2
}
