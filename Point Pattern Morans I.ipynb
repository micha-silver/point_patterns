{
 "cells": [
  {
   "cell_type": "markdown",
   "metadata": {
    "collapsed": true,
    "slideshow": {
     "slide_type": "slide"
    }
   },
   "source": [
    "# Spatial Autocorrelation\n",
    "- ## Moran's I\n",
    "- ## Geary's C\n",
    "- ## Variogram"
   ]
  },
  {
   "cell_type": "code",
   "execution_count": 33,
   "metadata": {
    "collapsed": false,
    "slideshow": {
     "slide_type": "slide"
    }
   },
   "outputs": [],
   "source": [
    "library('dplyr')\n",
    "library('spdep')\n",
    "library('geoR')\n",
    "\n",
    "# Load data and metadata\n",
    "# ---------------------------------\n",
    "setwd(paste0('/home/micha/Studies/Courses',\n",
    "             '/Geostatistics-Tal/Final Project/'))\n",
    "\n",
    "# WHich data interval?\n",
    "data_interval <- 'daily'\n",
    "\n",
    "if (data_interval == 'daily') {\n",
    "  date_str <- '20170112'\n",
    "  data_file <- paste0('gauge_data/','gauge_data_daily.csv')\n",
    "  data_cols <- c('station_id','date_time','quality',\n",
    "                 'obs_precip', 'precip_ind','snow','eor')\n",
    "} else {\n",
    "  date_str <- '2017011201'\n",
    "  data_file <- paste0('gauge_data/','gauge_data_hourly.csv')  \n",
    "  data_cols <- c('station_id','date_time','quality',\n",
    "                'precip_ind', 'obs_precip','form','eor')\n",
    "}\n",
    "gauge_data <- read.csv(data_file, col.names=data_cols)"
   ]
  },
  {
   "cell_type": "code",
   "execution_count": 34,
   "metadata": {
    "collapsed": false,
    "slideshow": {
     "slide_type": "slide"
    }
   },
   "outputs": [],
   "source": [
    "meta_cols <- c('station_id','from_date','to_date','elevation',\n",
    "               'latitude','longitude',\n",
    "               'stn_name','province')\n",
    "gauge_metadata <- read.csv('gauge_data/gauge_metadata.csv', col.names=meta_cols)\n",
    "# Get one day (or hour), and attach metadata\n",
    "gauge_data_filtered <- filter(gauge_data, date_time==date_str)\n",
    "gauges <- merge(gauge_data_filtered, gauge_metadata, by='station_id', all.y=TRUE)\n",
    "# Make sure to clean out NA or < 0 (unknown values)\n",
    "gauges <- na.omit(gauges)\n",
    "gauges <- filter(gauges, obs_precip>=0)"
   ]
  },
  {
   "cell_type": "markdown",
   "metadata": {
    "slideshow": {
     "slide_type": "slide"
    }
   },
   "source": [
    "### Create weights matrix (inverse distances)"
   ]
  },
  {
   "cell_type": "code",
   "execution_count": 35,
   "metadata": {
    "collapsed": false,
    "slideshow": {
     "slide_type": "fragment"
    }
   },
   "outputs": [
    {
     "name": "stderr",
     "output_type": "stream",
     "text": [
      "Warning message in dist(gauges):\n",
      "“NAs introduced by coercion”"
     ]
    },
    {
     "name": "stdout",
     "output_type": "stream",
     "text": [
      "             1            2            3            4            5\n",
      "1 0.000000e+00 8.953541e-05 0.0000844108 9.233253e-05 9.232112e-05\n",
      "2 8.953541e-05 0.000000e+00 0.0014478351 2.935130e-03 2.713655e-03\n",
      "3 8.441080e-05 1.447835e-03 0.0000000000 9.751774e-04 9.847633e-04\n",
      "4 9.233253e-05 2.935130e-03 0.0009751774 0.000000e+00 6.710661e-03\n",
      "5 9.232112e-05 2.713655e-03 0.0009847633 6.710661e-03 0.000000e+00\n"
     ]
    }
   ],
   "source": [
    "# Weights matrix\n",
    "distances <- as.matrix(dist(gauges))\n",
    "inv_dist = 1/distances\n",
    "diag(inv_dist) <- 0\n",
    "print(inv_dist[1:5,1:5])\n",
    "# Create list of weights from matrix, required by moran.test function\n",
    "wts <- mat2listw(inv_dist)"
   ]
  },
  {
   "cell_type": "markdown",
   "metadata": {
    "slideshow": {
     "slide_type": "slide"
    }
   },
   "source": [
    "## Run Moran's I and Geary's C "
   ]
  },
  {
   "cell_type": "code",
   "execution_count": 36,
   "metadata": {
    "collapsed": false,
    "slideshow": {
     "slide_type": "fragment"
    }
   },
   "outputs": [
    {
     "data": {
      "text/plain": [
       "\n",
       "\tMoran I test under randomisation\n",
       "\n",
       "data:  gauges$obs_precip  \n",
       "weights: wts  \n",
       "\n",
       "Moran I statistic standard deviate = 2.2478, p-value = 0.01229\n",
       "alternative hypothesis: greater\n",
       "sample estimates:\n",
       "Moran I statistic       Expectation          Variance \n",
       "      0.048122478      -0.006172840       0.000583463 \n"
      ]
     },
     "metadata": {},
     "output_type": "display_data"
    }
   ],
   "source": [
    "# Prepare SPDF\n",
    "xy_coords <- cbind(gauges$longitude, gauges$latitude) \n",
    "proj_wgs84 = CRS(\"+init=epsg:4326\")\n",
    "coordinates(gauges) <- xy_coords\n",
    "proj4string(gauges) <- proj_wgs84\n",
    "\n",
    "# Moran's I\n",
    "moran.test(gauges$obs_precip, wts)"
   ]
  },
  {
   "cell_type": "code",
   "execution_count": 37,
   "metadata": {
    "collapsed": false,
    "slideshow": {
     "slide_type": "slide"
    }
   },
   "outputs": [
    {
     "data": {
      "text/plain": [
       "\n",
       "\tGeary C test under randomisation\n",
       "\n",
       "data:  gauges$obs_precip \n",
       "weights: wts \n",
       "\n",
       "Geary C statistic standard deviate = 0.23014, p-value = 0.409\n",
       "alternative hypothesis: Expectation greater than statistic\n",
       "sample estimates:\n",
       "Geary C statistic       Expectation          Variance \n",
       "      0.979789755       1.000000000       0.007711872 \n"
      ]
     },
     "metadata": {},
     "output_type": "display_data"
    }
   ],
   "source": [
    "# Geary's C\n",
    "geary.test(gauges$obs_precip, wts)"
   ]
  },
  {
   "cell_type": "markdown",
   "metadata": {
    "slideshow": {
     "slide_type": "slide"
    }
   },
   "source": [
    "## Variogram and Envelope"
   ]
  },
  {
   "cell_type": "code",
   "execution_count": 38,
   "metadata": {
    "collapsed": false
   },
   "outputs": [
    {
     "name": "stdout",
     "output_type": "stream",
     "text": [
      "variog: computing omnidirectional variogram\n",
      "variog.env: generating 999 simulations by permutating data values\n",
      "variog.env: computing the empirical variogram for the 999 simulations\n",
      "variog.env: computing the envelops\n"
     ]
    }
   ],
   "source": [
    "# Variogram and Envelope\n",
    "coord_matrix <- cbind(gauges$longitude, gauges$latitude)\n",
    "vg <- variog(coords=coord_matrix, \n",
    "             data=gauges$obs_precip)\n",
    "# Run 999 Monte Carlo simulations\n",
    "vg_envel <- variog.mc.env(coords=coord_matrix, \n",
    "                          data=gauges$obs_precip, \n",
    "                          obj.var=vg, \n",
    "                          nsim=999)"
   ]
  },
  {
   "cell_type": "code",
   "execution_count": 39,
   "metadata": {
    "collapsed": false,
    "slideshow": {
     "slide_type": "slide"
    }
   },
   "outputs": [
    {
     "data": {
      "image/png": "[encoded data removed]",
      "text/plain": [
       "plot without title"
      ]
     },
     "metadata": {},
     "output_type": "display_data"
    }
   ],
   "source": [
    "options(repr.plot.width=5, repr.plot.height=5)\n",
    "plot(vg, envelope=vg_envel, pch=16, col=\"blue\")"
   ]
  },
  {
   "cell_type": "markdown",
   "metadata": {
    "slideshow": {
     "slide_type": "slide"
    }
   },
   "source": [
    "## Limit Maximum Distance of Variogram"
   ]
  },
  {
   "cell_type": "code",
   "execution_count": 40,
   "metadata": {
    "collapsed": false,
    "slideshow": {
     "slide_type": "slide"
    }
   },
   "outputs": [
    {
     "name": "stdout",
     "output_type": "stream",
     "text": [
      "variog: computing omnidirectional variogram\n",
      "variog.env: generating 999 simulations by permutating data values\n",
      "variog.env: computing the empirical variogram for the 999 simulations\n",
      "variog.env: computing the envelops\n"
     ]
    }
   ],
   "source": [
    "vg <- variog(coords=coord_matrix, \n",
    "             data=gauges$obs_precip, max.dist=1.5)\n",
    "# Run 999 Monte Carlo simulations\n",
    "vg_envel <- variog.mc.env(coords=coord_matrix, \n",
    "                          data=gauges$obs_precip, \n",
    "                          obj.var=vg, \n",
    "                          nsim=999)"
   ]
  },
  {
   "cell_type": "code",
   "execution_count": 41,
   "metadata": {
    "collapsed": false
   },
   "outputs": [
    {
     "data": {
      "image/png": "[encoded data removed]",
      "text/plain": [
       "plot without title"
      ]
     },
     "metadata": {},
     "output_type": "display_data"
    }
   ],
   "source": [
    "plot(vg, envelope=vg_envel, pch=16, col=\"blue\")"
   ]
  },
  {
   "cell_type": "code",
   "execution_count": null,
   "metadata": {
    "collapsed": true
   },
   "outputs": [],
   "source": []
  }
 ],
 "metadata": {
  "celltoolbar": "Slideshow",
  "kernelspec": {
   "display_name": "R",
   "language": "R",
   "name": "ir"
  },
  "language_info": {
   "codemirror_mode": "r",
   "file_extension": ".r",
   "mimetype": "text/x-r-source",
   "name": "R",
   "pygments_lexer": "r",
   "version": "3.4.0"
  }
 },
 "nbformat": 4,
 "nbformat_minor": 2
}
